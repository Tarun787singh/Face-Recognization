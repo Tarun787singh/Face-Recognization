{
 "cells": [
  {
   "cell_type": "code",
   "execution_count": 3,
   "metadata": {},
   "outputs": [],
   "source": [
    "import tensorflow"
   ]
  },
  {
   "cell_type": "code",
   "execution_count": 4,
   "metadata": {},
   "outputs": [],
   "source": [
    "import cv2"
   ]
  },
  {
   "cell_type": "code",
   "execution_count": 5,
   "metadata": {},
   "outputs": [],
   "source": [
    "from tqdm import tqdm"
   ]
  },
  {
   "cell_type": "code",
   "execution_count": 6,
   "metadata": {},
   "outputs": [],
   "source": [
    "imagepath='E:/HMDCR Tour/IMG_20180620_070112835.jpg'\n",
    "algopath='D:/iitroorkee/haarcascade_frontalface_default.xml'"
   ]
  },
  {
   "cell_type": "code",
   "execution_count": 7,
   "metadata": {},
   "outputs": [],
   "source": [
    "image=cv2.imread(imagepath)\n",
    "image=cv2.resize(image,(500,500))"
   ]
  },
  {
   "cell_type": "code",
   "execution_count": 8,
   "metadata": {},
   "outputs": [],
   "source": [
    "fcascade=cv2.CascadeClassifier(algopath)"
   ]
  },
  {
   "cell_type": "code",
   "execution_count": 9,
   "metadata": {},
   "outputs": [],
   "source": [
    "faces=fcascade.detectMultiScale(image,scaleFactor=1.1,minSize=(40,40),minNeighbors=5,flags=cv2.CASCADE_SCALE_IMAGE)"
   ]
  },
  {
   "cell_type": "code",
   "execution_count": 10,
   "metadata": {},
   "outputs": [
    {
     "name": "stdout",
     "output_type": "stream",
     "text": [
      "1\n"
     ]
    }
   ],
   "source": [
    "print(len(faces))"
   ]
  },
  {
   "cell_type": "code",
   "execution_count": 11,
   "metadata": {},
   "outputs": [],
   "source": [
    "faces #x,y,w,h\n",
    "for (x,y,w,h) in faces:\n",
    "    cv2.rectangle(image,(x,y),(x+w,y+h),(0,255,0),2)\n",
    "cv2.imshow(str(len(faces))+'faces',image)\n",
    "cv2.waitKey(0)\n",
    "cv2.destroyAllWindows()\n",
    "#https://pastebin.com/mDB15Har"
   ]
  },
  {
   "cell_type": "code",
   "execution_count": null,
   "metadata": {},
   "outputs": [],
   "source": [
    "import cv2\n",
    "import time\n",
    "algopath='D:/iitroorkee/haarcascade_frontalface_default.xml'\n",
    "fcascade=cv2.CascadeClassifier(algopath)\n",
    "while(True):\n",
    "    img=cv2.VideoCapture(0)#web cam\n",
    "    state,pix=img.read()#state wether captured or not,pxels vaues\n",
    "    fac=fcascade.detectMultiScale(pix,scaleFactor=1.1,minSize=(40,40),minNeighbors=5,flags=cv2.CASCADE_SCALE_IMAGE)\n",
    "    print(len(fac))\n",
    "    for (x,y,w,h) in fac:\n",
    "        cv2.rectangle(pix,(x,y),(x+w,y+h),(0,255,0),2)\n",
    "    cv2.imshow(pix)\n",
    "    cv2.waitKey(0)\n",
    "    cv2.destroyAllWindows()\n",
    "    break\n",
    "#cv2.imshow('my_image',pix)#for saving\n",
    "#cv2.imwrite('my_image.jpg',pix)\n",
    "#cv2.waitKey(0)\n",
    "    img.release()\n",
    "#cv2.destroyAllWindows()\n",
    "#to capture the images by web cam and find the number of faces\n",
    "#pastebin.com/SWUCJJK4"
   ]
  },
  {
   "cell_type": "code",
   "execution_count": null,
   "metadata": {},
   "outputs": [],
   "source": []
  },
  {
   "cell_type": "code",
   "execution_count": null,
   "metadata": {},
   "outputs": [],
   "source": []
  }
 ],
 "metadata": {
  "kernelspec": {
   "display_name": "Python 3",
   "language": "python",
   "name": "python3"
  },
  "language_info": {
   "codemirror_mode": {
    "name": "ipython",
    "version": 3
   },
   "file_extension": ".py",
   "mimetype": "text/x-python",
   "name": "python",
   "nbconvert_exporter": "python",
   "pygments_lexer": "ipython3",
   "version": "3.7.3"
  }
 },
 "nbformat": 4,
 "nbformat_minor": 2
}
